{
 "cells": [
  {
   "cell_type": "code",
   "execution_count": 2,
   "id": "b2208bba",
   "metadata": {},
   "outputs": [
    {
     "name": "stdout",
     "output_type": "stream",
     "text": [
      "Collecting tqdm\n",
      "  Using cached tqdm-4.67.1-py3-none-any.whl.metadata (57 kB)\n",
      "Requirement already satisfied: colorama in c:\\git\\skillsaw-ii\\.venv\\lib\\site-packages (from tqdm) (0.4.6)\n",
      "Using cached tqdm-4.67.1-py3-none-any.whl (78 kB)\n",
      "Installing collected packages: tqdm\n",
      "Successfully installed tqdm-4.67.1\n",
      "Note: you may need to restart the kernel to use updated packages.\n"
     ]
    }
   ],
   "source": [
    "pip install tqdm\n"
   ]
  },
  {
   "cell_type": "code",
   "execution_count": 1,
   "id": "b16f8bba",
   "metadata": {},
   "outputs": [
    {
     "name": "stdout",
     "output_type": "stream",
     "text": [
      "📊 Exporting all people with all fields...\n",
      "\n"
     ]
    },
    {
     "name": "stderr",
     "output_type": "stream",
     "text": [
      "Exporting: 10622doc [18:05,  9.79doc/s]\n"
     ]
    },
    {
     "name": "stdout",
     "output_type": "stream",
     "text": [
      "\n",
      "✅ Processed 10622 documents with 264 unique fields.\n",
      "📤 Writing to file: hcl_export.csv\n",
      "✅ Full export complete.\n"
     ]
    }
   ],
   "source": [
    "import win32com.client\n",
    "import getpass\n",
    "import csv\n",
    "from tqdm import tqdm\n",
    "\n",
    "# ─── Config ────────────────────────────────────────────────────────────────\n",
    "server = \"APP03/HC-SC/GC/CA\"\n",
    "filepath = \"csb\\\\imsd\\\\hcdir3.nsf\"\n",
    "view_name = \"English / Anglais\\\\2. Employees, alphabetically\"\n",
    "output_csv = \"hcl_export.csv\"\n",
    "\n",
    "# ─── Prompt for Notes password ─────────────────────────────────────────────\n",
    "password = getpass.getpass(\"Enter your Notes password: \")\n",
    "\n",
    "# ─── Connect to Notes ──────────────────────────────────────────────────────\n",
    "session = win32com.client.Dispatch(\"Lotus.NotesSession\")\n",
    "session.Initialize(password)\n",
    "\n",
    "db = session.GetDatabase(server, filepath)\n",
    "if not db.IsOpen:\n",
    "    db.Open()\n",
    "\n",
    "view = db.GetView(view_name)\n",
    "doc = view.GetFirstDocument()\n",
    "\n",
    "# ─── Extract all documents with progress (no denominator) ──────────────────\n",
    "print(\"📊 Exporting all people with all fields...\\n\")\n",
    "all_field_names = set()\n",
    "documents = []\n",
    "\n",
    "pbar = tqdm(desc=\"Exporting\", unit=\"doc\", dynamic_ncols=True, total=0)\n",
    "while doc is not None:\n",
    "    row = {}\n",
    "    for item in doc.Items:\n",
    "        try:\n",
    "            name = item.Name\n",
    "            value = item.Values\n",
    "            if isinstance(value, list):\n",
    "                value = \", \".join(str(v) for v in value)\n",
    "            else:\n",
    "                value = str(value)\n",
    "            row[name] = value\n",
    "            all_field_names.add(name)\n",
    "        except Exception:\n",
    "            pass  # skip unreadable items\n",
    "    documents.append(row)\n",
    "    doc = view.GetNextDocument(doc)\n",
    "    pbar.update()\n",
    "pbar.close()\n",
    "\n",
    "all_field_names = sorted(all_field_names)\n",
    "print(f\"\\n✅ Processed {len(documents)} documents with {len(all_field_names)} unique fields.\")\n",
    "\n",
    "# ─── Write to CSV ──────────────────────────────────────────────────────────\n",
    "print(f\"📤 Writing to file: {output_csv}\")\n",
    "with open(output_csv, mode='w', newline='', encoding='utf-8') as f:\n",
    "    writer = csv.DictWriter(f, fieldnames=all_field_names, extrasaction='ignore')\n",
    "    writer.writeheader()\n",
    "    for row in documents:\n",
    "        writer.writerow(row)\n",
    "\n",
    "print(\"✅ Full export complete.\")"
   ]
  }
 ],
 "metadata": {
  "kernelspec": {
   "display_name": ".venv",
   "language": "python",
   "name": "python3"
  },
  "language_info": {
   "codemirror_mode": {
    "name": "ipython",
    "version": 3
   },
   "file_extension": ".py",
   "mimetype": "text/x-python",
   "name": "python",
   "nbconvert_exporter": "python",
   "pygments_lexer": "ipython3",
   "version": "3.11.6"
  }
 },
 "nbformat": 4,
 "nbformat_minor": 5
}
